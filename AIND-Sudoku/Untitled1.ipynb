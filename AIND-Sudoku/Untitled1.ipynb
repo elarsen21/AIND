{
 "cells": [
  {
   "cell_type": "code",
   "execution_count": 1,
   "metadata": {
    "collapsed": true
   },
   "outputs": [],
   "source": [
    "assignments = []\n",
    "\n",
    "\n",
    "def assign_value(values, box, value):\n",
    "    \"\"\"\n",
    "    Please use this function to update your values dictionary!\n",
    "    Assigns a value to a given box. If it updates the board record it.\n",
    "    \"\"\"\n",
    "\n",
    "    # Don't waste memory appending actions that don't actually change any values\n",
    "    if values[box] == value:\n",
    "        return values\n",
    "\n",
    "    values[box] = value\n",
    "    if len(value) == 1:\n",
    "        assignments.append(values.copy())\n",
    "    return values"
   ]
  },
  {
   "cell_type": "code",
   "execution_count": 2,
   "metadata": {
    "collapsed": false
   },
   "outputs": [],
   "source": [
    "def naked_twins(values):\n",
    "    \"\"\"Eliminate values using the naked twins strategy.\n",
    "    Args:\n",
    "        values(dict): a dictionary of the form {'box_name': '123456789', ...}\n",
    "\n",
    "    Returns:\n",
    "        the values dictionary with the naked twins eliminated from peers.\n",
    "    \"\"\"\n",
    "    # Find all instances of naked twins\n",
    "    all_twins = []\n",
    "\n",
    "    for key, peer in peers.items():\n",
    "        peer_twins = {}\n",
    "        for box in values[peer]:\n",
    "            if len(box) == 2:\n",
    "                peer_twins.update(peer, box)\n",
    "        # all_twins = (k for k, v in peer_twins.items() if peer_twins.values().count(v) > 1)\n",
    "        all_twins.append(peer_twins) # THAT APPEAR TWICE\n",
    "\n",
    "    # Eliminate the naked twins as possibilities for their peers\n",
    "    for twin in all_twins:\n",
    "        for peer in peers[twin]:\n",
    "            values[peer].replace(values[twin], '')\n",
    "\n",
    "    return values"
   ]
  },
  {
   "cell_type": "code",
   "execution_count": 3,
   "metadata": {
    "collapsed": true
   },
   "outputs": [],
   "source": [
    "def cross(A, B):\n",
    "    \"Cross product of elements in A and elements in B.\"\n",
    "    return [s+t for s in A for t in B]\n",
    "\n",
    "\n",
    "rows = 'ABCDEFGHI'\n",
    "cols = '123456789'\n",
    "\n",
    "boxes = cross(rows, cols)\n",
    "\n",
    "row_units = [cross(r, cols) for r in rows]\n",
    "column_units = [cross(rows, c) for c in cols]\n",
    "square_units = [cross(rs, cs) for rs in ('ABC','DEF','GHI') for cs in ('123','456','789')]\n",
    "diagonal1 = [a[0]+a[1] for a in zip(rows, cols)]\n",
    "diagonal2 = [a[0]+a[1] for a in zip(rows, cols[::-1])]\n",
    "unitlist = row_units + column_units + square_units + [diagonal1] + [diagonal2]\n",
    "units = dict((s, [u for u in unitlist if s in u]) for s in boxes)\n",
    "peers = dict((s, set(sum(units[s],[]))-set([s])) for s in boxes)\n",
    "\n",
    "\n",
    "def grid_values(grid):\n",
    "    \"\"\"\n",
    "    Convert grid into a dict of {square: char} with '123456789' for empties.\n",
    "    Args:\n",
    "        grid(string) - A grid in string form.\n",
    "    Returns:\n",
    "        A grid in dictionary form\n",
    "            Keys: The boxes, e.g., 'A1'\n",
    "            Values: The value in each box, e.g., '8'. If the box has no value, then the value will be '123456789'.\n",
    "    \"\"\"\n",
    "    improved_grid = dict(zip(boxes, grid))\n",
    "\n",
    "    for key, value in improved_grid.items():\n",
    "        if value == \".\":\n",
    "            improved_grid[key] = \"123456789\"\n",
    "    return improved_grid\n",
    "\n",
    "\n",
    "def display(values):\n",
    "    \"\"\"\n",
    "    Display the values as a 2-D grid.\n",
    "    Args:\n",
    "        values(dict): The sudoku in dictionary form\n",
    "    \"\"\"\n",
    "    width = 1+max(len(values[s]) for s in boxes)\n",
    "    line = '+'.join(['-'*(width*3)]*3)\n",
    "    for r in rows:\n",
    "        print(''.join(values[r+c].center(width)+('|' if c in '36' else '')\n",
    "                      for c in cols))\n",
    "        if r in 'CF': print(line)\n",
    "    return\n",
    "\n",
    "def eliminate(values):\n",
    "    for k, v in values.items():\n",
    "        if len(values[k]) == 1:\n",
    "            digit = values[k]\n",
    "            for i in peers[k]:\n",
    "                values[i] = values[i].replace(digit,'')\n",
    "    return values\n",
    "\n",
    "\n",
    "def only_choice(values):\n",
    "    \"\"\"\n",
    "    Go through all the units, and whenever there is a unit with a value that only fits in one box, assign the value to this box.\n",
    "    Input: A sudoku in dictionary form.\n",
    "    Output: The resulting sudoku in dictionary form.\n",
    "    \"\"\"\n",
    "    for unit in unitlist:\n",
    "        for digit in '123456789':\n",
    "            dplaces = [box for box in unit if digit in values[box]]\n",
    "            if len(dplaces) == 1:\n",
    "                values[dplaces[0]] = digit\n",
    "    return values\n",
    "\n",
    "def reduce_puzzle(values):\n",
    "    \"\"\"\n",
    "    Iterate eliminate() and only_choice(). If at some point, there is a box with no available values, return False.\n",
    "    If the sudoku is solved, return the sudoku.\n",
    "    If after an iteration of both functions, the sudoku remains the same, return the sudoku.\n",
    "    Input: A sudoku in dictionary form.\n",
    "    Output: The resulting sudoku in dictionary form.\n",
    "    \"\"\"\n",
    "    solved_values = [box for box in values.keys() if len(values[box]) == 1]\n",
    "    stalled = False\n",
    "    while not stalled:\n",
    "        solved_values_before = len([box for box in values.keys() if len(values[box]) == 1])\n",
    "        values = eliminate(values)\n",
    "        values = only_choice(values)\n",
    "        values = naked_twins(values)\n",
    "        solved_values_after = len([box for box in values.keys() if len(values[box]) == 1])\n",
    "        stalled = solved_values_before == solved_values_after\n",
    "        if len([box for box in values.keys() if len(values[box]) == 0]):\n",
    "            return False\n",
    "    return values\n",
    "\n",
    "\n",
    "def search(values):\n",
    "    \"Using depth-first search and propagation, try all possible values.\"\n",
    "    # First, reduce the puzzle using the previous function\n",
    "    values = reduce_puzzle(values)\n",
    "    if values is False:\n",
    "        return False ## Failed earlier\n",
    "    if all(len(values[s]) == 1 for s in boxes):\n",
    "        return values ## Solved!\n",
    "    # Choose one of the unfilled squares with the fewest possibilities\n",
    "    n,s = min((len(values[s]), s) for s in boxes if len(values[s]) > 1)\n",
    "    # Now use recurrence to solve each one of the resulting sudokus, and\n",
    "    for value in values[s]:\n",
    "        new_sudoku = values.copy()\n",
    "        new_sudoku[s] = value\n",
    "        attempt = search(new_sudoku)\n",
    "        if attempt:\n",
    "            return attempt\n",
    "\n",
    "\n",
    "def solve(grid):\n",
    "    \"\"\"\n",
    "    Find the solution to a Sudoku grid.\n",
    "    Args:\n",
    "        grid(string): a string representing a sudoku grid.\n",
    "            Example: '2.............62....1....7...6..8...3...9...7...6..4...4....8....52.............3'\n",
    "    Returns:\n",
    "        The dictionary representation of the final sudoku grid. False if no solution exists.\n",
    "    \"\"\"\n",
    "    # see Coding The Solution, Norvig\n",
    "    values = grid_values(grid)\n",
    "\n",
    "    search(values)\n",
    "    # solve diagonals?\n",
    "\n",
    "    return values"
   ]
  },
  {
   "cell_type": "code",
   "execution_count": 4,
   "metadata": {
    "collapsed": false
   },
   "outputs": [],
   "source": [
    "# diag_sudoku_grid = '2.............62....1....7...6..8...3...9...7...6..4...4....8....52.............3'\n",
    "# display(solve(diag_sudoku_grid))"
   ]
  },
  {
   "cell_type": "code",
   "execution_count": 5,
   "metadata": {
    "collapsed": true
   },
   "outputs": [],
   "source": [
    "before_naked_twins_1 = {'I6': '4', 'H9': '3', 'I2': '6', 'E8': '1', 'H3': '5', 'H7': '8', 'I7': '1', 'I4': '8',\n",
    "                            'H5': '6', 'F9': '7', 'G7': '6', 'G6': '3', 'G5': '2', 'E1': '8', 'G3': '1', 'G2': '8',\n",
    "                            'G1': '7', 'I1': '23', 'C8': '5', 'I3': '23', 'E5': '347', 'I5': '5', 'C9': '1', 'G9': '5',\n",
    "                            'G8': '4', 'A1': '1', 'A3': '4', 'A2': '237', 'A5': '9', 'A4': '2357', 'A7': '27',\n",
    "                            'A6': '257', 'C3': '8', 'C2': '237', 'C1': '23', 'E6': '579', 'C7': '9', 'C6': '6',\n",
    "                            'C5': '37', 'C4': '4', 'I9': '9', 'D8': '8', 'I8': '7', 'E4': '6', 'D9': '6', 'H8': '2',\n",
    "                            'F6': '125', 'A9': '8', 'G4': '9', 'A8': '6', 'E7': '345', 'E3': '379', 'F1': '6',\n",
    "                            'F2': '4', 'F3': '23', 'F4': '1235', 'F5': '8', 'E2': '37', 'F7': '35', 'F8': '9',\n",
    "                            'D2': '1', 'H1': '4', 'H6': '17', 'H2': '9', 'H4': '17', 'D3': '2379', 'B4': '27',\n",
    "                            'B5': '1', 'B6': '8', 'B7': '27', 'E9': '2', 'B1': '9', 'B2': '5', 'B3': '6', 'D6': '279',\n",
    "                            'D7': '34', 'D4': '237', 'D5': '347', 'B8': '3', 'B9': '4', 'D1': '5'}"
   ]
  },
  {
   "cell_type": "code",
   "execution_count": 6,
   "metadata": {
    "collapsed": true
   },
   "outputs": [],
   "source": [
    "before_naked_twins_2 = {'A1': '23', 'A2': '4', 'A3': '7', 'A4': '6', 'A5': '8', 'A6': '5', 'A7': '23', 'A8': '9',\n",
    "                            'A9': '1', 'B1': '6', 'B2': '9', 'B3': '8', 'B4': '4', 'B5': '37', 'B6': '1', 'B7': '237',\n",
    "                            'B8': '5', 'B9': '237', 'C1': '23', 'C2': '5', 'C3': '1', 'C4': '23', 'C5': '379',\n",
    "                            'C6': '2379', 'C7': '8', 'C8': '6', 'C9': '4', 'D1': '8', 'D2': '17', 'D3': '9',\n",
    "                            'D4': '1235', 'D5': '6', 'D6': '237', 'D7': '4', 'D8': '27', 'D9': '2357', 'E1': '5',\n",
    "                            'E2': '6', 'E3': '2', 'E4': '8', 'E5': '347', 'E6': '347', 'E7': '37', 'E8': '1', 'E9': '9',\n",
    "                            'F1': '4', 'F2': '17', 'F3': '3', 'F4': '125', 'F5': '579', 'F6': '279', 'F7': '6',\n",
    "                            'F8': '8', 'F9': '257', 'G1': '1', 'G2': '8', 'G3': '6', 'G4': '35', 'G5': '345',\n",
    "                            'G6': '34', 'G7': '9', 'G8': '27', 'G9': '27', 'H1': '7', 'H2': '2', 'H3': '4', 'H4': '9',\n",
    "                            'H5': '1', 'H6': '8', 'H7': '5', 'H8': '3', 'H9': '6', 'I1': '9', 'I2': '3', 'I3': '5',\n",
    "                            'I4': '7', 'I5': '2', 'I6': '6', 'I7': '1', 'I8': '4', 'I9': '8'}"
   ]
  },
  {
   "cell_type": "code",
   "execution_count": 7,
   "metadata": {
    "collapsed": false
   },
   "outputs": [
    {
     "ename": "TypeError",
     "evalue": "unhashable type: 'set'",
     "output_type": "error",
     "traceback": [
      "\u001b[0;31m---------------------------------------------------------------------------\u001b[0m",
      "\u001b[0;31mTypeError\u001b[0m                                 Traceback (most recent call last)",
      "\u001b[0;32m<ipython-input-7-cf70e8bad63e>\u001b[0m in \u001b[0;36m<module>\u001b[0;34m()\u001b[0m\n\u001b[0;32m----> 1\u001b[0;31m \u001b[0mdisplay\u001b[0m\u001b[0;34m(\u001b[0m\u001b[0mnaked_twins\u001b[0m\u001b[0;34m(\u001b[0m\u001b[0mbefore_naked_twins_1\u001b[0m\u001b[0;34m)\u001b[0m\u001b[0;34m)\u001b[0m\u001b[0;34m\u001b[0m\u001b[0m\n\u001b[0m",
      "\u001b[0;32m<ipython-input-2-9db74a1edb48>\u001b[0m in \u001b[0;36mnaked_twins\u001b[0;34m(values)\u001b[0m\n\u001b[1;32m     12\u001b[0m     \u001b[0;32mfor\u001b[0m \u001b[0mkey\u001b[0m\u001b[0;34m,\u001b[0m \u001b[0mpeer\u001b[0m \u001b[0;32min\u001b[0m \u001b[0mpeers\u001b[0m\u001b[0;34m.\u001b[0m\u001b[0mitems\u001b[0m\u001b[0;34m(\u001b[0m\u001b[0;34m)\u001b[0m\u001b[0;34m:\u001b[0m\u001b[0;34m\u001b[0m\u001b[0m\n\u001b[1;32m     13\u001b[0m         \u001b[0mpeer_twins\u001b[0m \u001b[0;34m=\u001b[0m \u001b[0;34m{\u001b[0m\u001b[0;34m}\u001b[0m\u001b[0;34m\u001b[0m\u001b[0m\n\u001b[0;32m---> 14\u001b[0;31m         \u001b[0;32mfor\u001b[0m \u001b[0mbox\u001b[0m \u001b[0;32min\u001b[0m \u001b[0mvalues\u001b[0m\u001b[0;34m[\u001b[0m\u001b[0mpeer\u001b[0m\u001b[0;34m]\u001b[0m\u001b[0;34m:\u001b[0m\u001b[0;34m\u001b[0m\u001b[0m\n\u001b[0m\u001b[1;32m     15\u001b[0m             \u001b[0;32mif\u001b[0m \u001b[0mlen\u001b[0m\u001b[0;34m(\u001b[0m\u001b[0mbox\u001b[0m\u001b[0;34m)\u001b[0m \u001b[0;34m==\u001b[0m \u001b[0;36m2\u001b[0m\u001b[0;34m:\u001b[0m\u001b[0;34m\u001b[0m\u001b[0m\n\u001b[1;32m     16\u001b[0m                 \u001b[0mpeer_twins\u001b[0m\u001b[0;34m.\u001b[0m\u001b[0mupdate\u001b[0m\u001b[0;34m(\u001b[0m\u001b[0mpeer\u001b[0m\u001b[0;34m,\u001b[0m \u001b[0mbox\u001b[0m\u001b[0;34m)\u001b[0m\u001b[0;34m\u001b[0m\u001b[0m\n",
      "\u001b[0;31mTypeError\u001b[0m: unhashable type: 'set'"
     ]
    }
   ],
   "source": [
    "display(naked_twins(before_naked_twins_1))"
   ]
  },
  {
   "cell_type": "code",
   "execution_count": null,
   "metadata": {
    "collapsed": false
   },
   "outputs": [],
   "source": [
    "display(naked_twins(before_naked_twins_2))"
   ]
  },
  {
   "cell_type": "code",
   "execution_count": null,
   "metadata": {
    "collapsed": false
   },
   "outputs": [],
   "source": []
  },
  {
   "cell_type": "code",
   "execution_count": null,
   "metadata": {
    "collapsed": true
   },
   "outputs": [],
   "source": []
  }
 ],
 "metadata": {
  "kernelspec": {
   "display_name": "Python 3",
   "language": "python",
   "name": "python3"
  },
  "language_info": {
   "codemirror_mode": {
    "name": "ipython",
    "version": 3
   },
   "file_extension": ".py",
   "mimetype": "text/x-python",
   "name": "python",
   "nbconvert_exporter": "python",
   "pygments_lexer": "ipython3",
   "version": "3.6.0"
  }
 },
 "nbformat": 4,
 "nbformat_minor": 2
}
